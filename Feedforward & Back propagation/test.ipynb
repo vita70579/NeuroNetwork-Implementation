{
 "cells": [
  {
   "cell_type": "code",
   "execution_count": 4,
   "metadata": {},
   "outputs": [
    {
     "name": "stdout",
     "output_type": "stream",
     "text": [
      "Extracting MNIST_data\\train-images-idx3-ubyte.gz\n",
      "Extracting MNIST_data\\train-labels-idx1-ubyte.gz\n",
      "Extracting MNIST_data\\t10k-images-idx3-ubyte.gz\n",
      "Extracting MNIST_data\\t10k-labels-idx1-ubyte.gz\n"
     ]
    }
   ],
   "source": [
    "%run network.ipynb\n",
    "import numpy as np\n",
    "import tensorflow as tf\n",
    "from tensorflow.examples.tutorials.mnist import input_data\n",
    "mnist = input_data.read_data_sets(\"MNIST_data\", one_hot=True)\n",
    "x_train = mnist.train.images\n",
    "y_train = mnist.train.labels\n",
    "x_test = mnist.test.images\n",
    "y_test = mnist.test.labels"
   ]
  },
  {
   "cell_type": "code",
   "execution_count": null,
   "metadata": {},
   "outputs": [],
   "source": [
    "training_samples = [np.reshape(x,(784,1)) for x in x_train]\n",
    "training_result = [np.reshape(y,(10,1)) for y in y_train]\n",
    "\n",
    "testing_samples = [np.reshape(x,(784,1)) for x in x_test]\n",
    "testing_result = [np.reshape(y,(10,1)) for y in y_test]"
   ]
  },
  {
   "cell_type": "code",
   "execution_count": null,
   "metadata": {},
   "outputs": [
    {
     "name": "stdout",
     "output_type": "stream",
     "text": [
      "training loss -- 0.32422328070952344\n",
      "training loss -- 0.17345766427504247\n",
      "training loss -- 0.15074539786178842\n",
      "training loss -- 0.1389818677365191\n",
      "training loss -- 0.12958440499060392\n",
      "training loss -- 0.12132424670342072\n",
      "training loss -- 0.1162690248453344\n",
      "training loss -- 0.11248912920092231\n",
      "training loss -- 0.11021297427024186\n"
     ]
    }
   ],
   "source": [
    "# 3 layers\n",
    "# Number of neurons (784 30 10)\n",
    "# learning rate = 0.9\n",
    "# Training times (epoch) = 10\n",
    "\n",
    "net1 = Network([784,30,10])\n",
    "net1.training(training_samples[:-1],training_result[:-1],0.9,10)\n",
    "net1.testing(testing_samples[:5000],testing_result[:5000])"
   ]
  },
  {
   "cell_type": "code",
   "execution_count": null,
   "metadata": {},
   "outputs": [],
   "source": [
    "# 4 layers\n",
    "# learning rate = 0.1\n",
    "# Number of neurons (784 30 30 10)\n",
    "# Training times (epoch) = 5\n",
    "\n",
    "net2 = Network([784,30,30,10])\n",
    "net2.training(training_samples[:-1],training_result[:-1],0.1,5)\n",
    "net2.testing(testing_samples[:5000],testing_result[:5000])"
   ]
  },
  {
   "cell_type": "code",
   "execution_count": null,
   "metadata": {},
   "outputs": [],
   "source": [
    "# 3 layers\n",
    "# learning rate = 3\n",
    "# Number of neurons (784 30 10)\n",
    "# Training times (epoch) = 10\n",
    "\n",
    "net3 = Network([784,30,10])\n",
    "net3.training(training_samples[:-1],training_result[:-1],3,10)\n",
    "net3.testing(testing_samples[:5000],testing_result[:5000])"
   ]
  }
 ],
 "metadata": {
  "kernelspec": {
   "display_name": "Python 3",
   "language": "python",
   "name": "python3"
  },
  "language_info": {
   "codemirror_mode": {
    "name": "ipython",
    "version": 3
   },
   "file_extension": ".py",
   "mimetype": "text/x-python",
   "name": "python",
   "nbconvert_exporter": "python",
   "pygments_lexer": "ipython3",
   "version": "3.7.1"
  }
 },
 "nbformat": 4,
 "nbformat_minor": 2
}
